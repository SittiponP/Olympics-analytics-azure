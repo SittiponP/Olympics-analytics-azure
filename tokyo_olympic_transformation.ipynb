{
 "cells": [
  {
   "cell_type": "code",
   "execution_count": null,
   "metadata": {},
   "outputs": [],
   "source": [
    "from pyspark.sql.functions import col\n",
    "from pyspark.sql.types import IntegerType, DoubleType, BooleanType, DateType"
   ]
  },
  {
   "cell_type": "code",
   "execution_count": null,
   "metadata": {},
   "outputs": [],
   "source": [
    "    configs = {\"fs.azure.account.auth.type\": \"OAuth\",\n",
    "                \"fs.azure.account.oauth.provider.type\": \"org.apache.hadoop.fs.azurebfs.oauth2.ClientCredsTokenProvider\",\n",
    "                \"fs.azure.account.oauth2.client.id\": \"\",\n",
    "                \"fs.azure.account.oauth2.client.secret\": '',\n",
    "                \"fs.azure.account.oauth2.client.endpoint\": \"https://login.microsoftonline.com/tanent_id/oauth2/token\"}\n",
    "\n",
    "\n",
    "dbutils.fs.mount(\n",
    "source = \"abfss://tokyo-data@tokyoolympicdatakao.dfs.core.windows.net\", # contrainer@storageacc\n",
    "mount_point = \"/mnt/tokyoolymic-test\",\n",
    "extra_configs = configs)"
   ]
  },
  {
   "cell_type": "code",
   "execution_count": null,
   "metadata": {},
   "outputs": [],
   "source": [
    "%fs\n",
    "ls \"/mnt/tokyoolymic-test\""
   ]
  },
  {
   "cell_type": "code",
   "execution_count": null,
   "metadata": {},
   "outputs": [],
   "source": [
    "#Using Spark to the data from folder\n",
    "\n",
    "athletes = spark.read.format(\"csv\").option('header', 'true').option(\"inferSchema\", \"true\").load(\"/mnt/tokyoolymic-test/raw-data/athletes.csv\")\n",
    "coaches = spark.read.format(\"csv\").option('header', 'true').option(\"inferSchema\", \"true\").load(\"/mnt/tokyoolymic-test/raw-data/coaches.csv\")\n",
    "entriesgender = spark.read.format(\"csv\").option('header', 'true').option(\"inferSchema\", \"true\").load(\"/mnt/tokyoolymic-test/raw-data/entriesgender.csv\")\n",
    "medals = spark.read.format(\"csv\").option('header', 'true').option(\"inferSchema\", \"true\").load(\"/mnt/tokyoolymic-test/raw-data/medals.csv\")\n",
    "teams = spark.read.format(\"csv\").option('header', 'true').option(\"inferSchema\", \"true\").load(\"/mnt/tokyoolymic-test/raw-data/teams.csv\")\n",
    "\n",
    "#option('inferSchema', 'true') to make a datatype in the table precise"
   ]
  },
  {
   "cell_type": "markdown",
   "metadata": {},
   "source": [
    "Data Inspectaion"
   ]
  },
  {
   "cell_type": "code",
   "execution_count": null,
   "metadata": {},
   "outputs": [],
   "source": [
    "athletes.show()"
   ]
  },
  {
   "cell_type": "code",
   "execution_count": null,
   "metadata": {},
   "outputs": [],
   "source": [
    "athletes.printSchema()"
   ]
  },
  {
   "cell_type": "code",
   "execution_count": null,
   "metadata": {},
   "outputs": [],
   "source": [
    "coaches.show()"
   ]
  },
  {
   "cell_type": "code",
   "execution_count": null,
   "metadata": {},
   "outputs": [],
   "source": [
    "coaches.printSchema()"
   ]
  },
  {
   "cell_type": "code",
   "execution_count": null,
   "metadata": {},
   "outputs": [],
   "source": [
    "entriesgender.show()"
   ]
  },
  {
   "cell_type": "code",
   "execution_count": null,
   "metadata": {},
   "outputs": [],
   "source": [
    "entriesgender.printSchema()"
   ]
  },
  {
   "cell_type": "code",
   "execution_count": null,
   "metadata": {},
   "outputs": [],
   "source": [
    "#Transform the data type manual way\n",
    "\n",
    "entriesgender = entriesgender.withColumn(\"Female\", col(\"Female\").cast(IntegerType()))\\\n",
    "    .withColumn(\"Male\", col(\"Male\").cast(IntegerType()))\\\n",
    "        .withColumn(\"Total\", col(\"Total\").cast(IntegerType()))\n",
    "\n",
    "#Do the transform manual way"
   ]
  },
  {
   "cell_type": "code",
   "execution_count": null,
   "metadata": {},
   "outputs": [],
   "source": [
    "entriesgender.printSchema()"
   ]
  },
  {
   "cell_type": "code",
   "execution_count": null,
   "metadata": {},
   "outputs": [],
   "source": [
    "medals.show()"
   ]
  },
  {
   "cell_type": "code",
   "execution_count": null,
   "metadata": {},
   "outputs": [],
   "source": [
    "medals.printSchema()"
   ]
  },
  {
   "cell_type": "code",
   "execution_count": null,
   "metadata": {},
   "outputs": [],
   "source": [
    "teams.show()"
   ]
  },
  {
   "cell_type": "code",
   "execution_count": null,
   "metadata": {},
   "outputs": [],
   "source": [
    "teams.printSchema()"
   ]
  },
  {
   "cell_type": "code",
   "execution_count": null,
   "metadata": {},
   "outputs": [],
   "source": [
    "#Find top countries with the heightest of gold medals\n",
    "top_gold_countries = medals.orderBy(\"Gold\", ascending=False).select(\"Team_country\", \"Gold\").show()"
   ]
  },
  {
   "cell_type": "code",
   "execution_count": null,
   "metadata": {},
   "outputs": [],
   "source": [
    "# Calculate the average number of entries by gender for each discipline\n",
    "average_entries_by_gender = entriesgender.withColumn(\n",
    "    'Avg_Female', entriesgender['Female'] / entriesgender['Total']\n",
    ").withColumn(\n",
    "    'Avg_Male', entriesgender['Male'] / entriesgender['Total']\n",
    ")\n",
    "average_entries_by_gender.show()"
   ]
  },
  {
   "cell_type": "code",
   "execution_count": null,
   "metadata": {},
   "outputs": [],
   "source": [
    "#Svae the file back into Azuer datalake\n",
    "athletes.repartition(1).write.mode(\"overwrite\").option('header', 'true').csv('/mnt/tokyoolymic-test/transformed-data/athletes')\n",
    "coaches.repartition(1).write.mode(\"overwrite\").option('header', 'true').csv('/mnt/tokyoolymic-test/transformed-data/coaches')\n",
    "entriesgender.repartition(1).write.mode(\"overwrite\").option('header', 'true').csv('/mnt/tokyoolymic-test/transformed-data/entriesgender')\n",
    "medals.repartition(1).write.mode(\"overwrite\").option('header', 'true').csv('/mnt/tokyoolymic-test/transformed-data/medals')\n",
    "teams.repartition(1).write.mode(\"overwrite\").option('header', 'true').csv('/mnt/tokyoolymic-test/transformed-data/teams')"
   ]
  }
 ],
 "metadata": {
  "language_info": {
   "name": "python"
  }
 },
 "nbformat": 4,
 "nbformat_minor": 2
}
